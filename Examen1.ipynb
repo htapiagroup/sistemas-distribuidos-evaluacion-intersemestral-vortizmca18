{
  "nbformat": 4,
  "nbformat_minor": 0,
  "metadata": {
    "colab": {
      "name": "Examen1.ipynb",
      "version": "0.3.2",
      "provenance": [],
      "collapsed_sections": [],
      "include_colab_link": true
    },
    "kernelspec": {
      "name": "python3",
      "display_name": "Python 3"
    }
  },
  "cells": [
    {
      "cell_type": "markdown",
      "metadata": {
        "id": "view-in-github",
        "colab_type": "text"
      },
      "source": [
        "<a href=\"https://colab.research.google.com/github/htapiagroup/sistemas-distribuidos-evaluacion-intersemestral-vortizmca18/blob/master/Examen1.ipynb\" target=\"_parent\"><img src=\"https://colab.research.google.com/assets/colab-badge.svg\" alt=\"Open In Colab\"/></a>"
      ]
    },
    {
      "cell_type": "markdown",
      "metadata": {
        "id": "3IWYjX1eSJ2F",
        "colab_type": "text"
      },
      "source": [
        "Víctor Ortiz Pérez\n",
        "MCA 2018 - 2020\n",
        "LANIA"
      ]
    },
    {
      "cell_type": "code",
      "metadata": {
        "id": "_idkGHkkQe3i",
        "colab_type": "code",
        "outputId": "9e051dc7-6796-41fa-b883-237ee281d10a",
        "colab": {
          "base_uri": "https://localhost:8080/",
          "height": 308
        }
      },
      "source": [
        "!wget https://archive.org/download/nycTaxiTripData2013/trip_data.7z"
      ],
      "execution_count": 0,
      "outputs": [
        {
          "output_type": "stream",
          "text": [
            "--2019-06-18 15:50:34--  https://archive.org/download/nycTaxiTripData2013/trip_data.7z\n",
            "Resolving archive.org (archive.org)... 207.241.224.2\n",
            "Connecting to archive.org (archive.org)|207.241.224.2|:443... connected.\n",
            "HTTP request sent, awaiting response... 302 Found\n",
            "Location: https://ia802501.us.archive.org/1/items/nycTaxiTripData2013/trip_data.7z [following]\n",
            "--2019-06-18 15:50:34--  https://ia802501.us.archive.org/1/items/nycTaxiTripData2013/trip_data.7z\n",
            "Resolving ia802501.us.archive.org (ia802501.us.archive.org)... 207.241.228.191\n",
            "Connecting to ia802501.us.archive.org (ia802501.us.archive.org)|207.241.228.191|:443... connected.\n",
            "HTTP request sent, awaiting response... 200 OK\n",
            "Length: 4102781969 (3.8G) [application/x-7z-compressed]\n",
            "Saving to: ‘trip_data.7z’\n",
            "\n",
            "trip_data.7z        100%[===================>]   3.82G  10.7MB/s    in 9m 22s  \n",
            "\n",
            "2019-06-18 15:59:56 (6.96 MB/s) - ‘trip_data.7z’ saved [4102781969/4102781969]\n",
            "\n"
          ],
          "name": "stdout"
        }
      ]
    },
    {
      "cell_type": "code",
      "metadata": {
        "id": "v_ndqxSySTpB",
        "colab_type": "code",
        "outputId": "31c547a8-975d-4765-d122-9496e2ea30d7",
        "colab": {
          "base_uri": "https://localhost:8080/",
          "height": 50
        }
      },
      "source": [
        "!ls"
      ],
      "execution_count": 10,
      "outputs": [
        {
          "output_type": "stream",
          "text": [
            "nyc_taxi.csv  sample_data\ttrip_data_1.csv  yellow_tripdata_2018-01.csv\n",
            "nyc_taxi.zip  trip_data_10.csv\ttrip_data.7z\t yellow_tripdata_2018-02.csv\n"
          ],
          "name": "stdout"
        }
      ]
    },
    {
      "cell_type": "markdown",
      "metadata": {
        "id": "Nny-RrwfbiK2",
        "colab_type": "text"
      },
      "source": [
        "# 1. Adquirir los datos.\n",
        "\n",
        "\n",
        "1.   Se descargó el archivo mediante el comando: !wget https://archive.org/download/nycTaxiTripData2013/trip_data.7z\n",
        "2.   Se tardó 9:22 min. -> 3.82G  10.7MB/s"
      ]
    },
    {
      "cell_type": "code",
      "metadata": {
        "id": "qsFjH06QVOk-",
        "colab_type": "code",
        "outputId": "f611c3d6-4ebb-40c9-a592-c890bdadc68e",
        "colab": {
          "base_uri": "https://localhost:8080/",
          "height": 435
        }
      },
      "source": [
        "!7z x trip_data.7z -o/content/"
      ],
      "execution_count": 0,
      "outputs": [
        {
          "output_type": "stream",
          "text": [
            "\n",
            "7-Zip [64] 16.02 : Copyright (c) 1999-2016 Igor Pavlov : 2016-05-21\n",
            "p7zip Version 16.02 (locale=en_US.UTF-8,Utf16=on,HugeFiles=on,64 bits,2 CPUs Intel(R) Xeon(R) CPU @ 2.30GHz (306F0),ASM,AES-NI)\n",
            "\n",
            "Scanning the drive for archives:\n",
            "  0M Scan\b\b\b\b\b\b\b\b\b         \b\b\b\b\b\b\b\b\b1 file, 4102781969 bytes (3913 MiB)\n",
            "\n",
            "Extracting archive: trip_data.7z\n",
            "--\n",
            "Path = trip_data.7z\n",
            "Type = 7z\n",
            "Physical Size = 4102781969\n",
            "Headers Size = 433\n",
            "Method = LZMA:24\n",
            "Solid = -\n",
            "Blocks = 12\n",
            "\n",
            "  0%\b\b\b\b    \b\b\b\b  0% - trip_data_1.csv\b\b\b\b\b\b\b\b\b\b\b\b\b\b\b\b\b\b\b\b\b\b                      \b\b\b\b\b\b\b\b\b\b\b\b\b\b\b\b\b\b\b\b\b\b  1% - trip_data_1.csv\b\b\b\b\b\b\b\b\b\b\b\b\b\b\b\b\b\b\b\b\b\b                      \b\b\b\b\b\b\b\b\b\b\b\b\b\b\b\b\b\b\b\b\b\b  2% - trip_data_1.csv\b\b\b\b\b\b\b\b\b\b\b\b\b\b\b\b\b\b\b\b\b\b                      \b\b\b\b\b\b\b\b\b\b\b\b\b\b\b\b\b\b\b\b\b\b  3% - trip_data_1.csv\b\b\b\b\b\b\b\b\b\b\b\b\b\b\b\b\b\b\b\b\b\b                      \b\b\b\b\b\b\b\b\b\b\b\b\b\b\b\b\b\b\b\b\b\b  4% - trip_data_1.csv\b\b\b\b\b\b\b\b\b\b\b\b\b\b\b\b\b\b\b\b\b\b                      \b\b\b\b\b\b\b\b\b\b\b\b\b\b\b\b\b\b\b\b\b\b  5% - trip_data_1.csv\b\b\b\b\b\b\b\b\b\b\b\b\b\b\b\b\b\b\b\b\b\b                      \b\b\b\b\b\b\b\b\b\b\b\b\b\b\b\b\b\b\b\b\b\b  6% - trip_data_1.csv\b\b\b\b\b\b\b\b\b\b\b\b\b\b\b\b\b\b\b\b\b\b                      \b\b\b\b\b\b\b\b\b\b\b\b\b\b\b\b\b\b\b\b\b\b  7% - trip_data_1.csv\b\b\b\b\b\b\b\b\b\b\b\b\b\b\b\b\b\b\b\b\b\b                      \b\b\b\b\b\b\b\b\b\b\b\b\b\b\b\b\b\b\b\b\b\b  8% - trip_data_1.csv\b\b\b\b\b\b\b\b\b\b\b\b\b\b\b\b\b\b\b\b\b\b                      \b\b\b\b\b\b\b\b\b\b\b\b\b\b\b\b\b\b\b\b\b\b  8% 1\b\b\b\b\b\b      \b\b\b\b\b\b  8% 1 - trip_data_10.csv\b\b\b\b\b\b\b\b\b\b\b\b\b\b\b\b\b\b\b\b\b\b\b\b\b                         \b\b\b\b\b\b\b\b\b\b\b\b\b\b\b\b\b\b\b\b\b\b\b\b\b  9% 1 - trip_data_10.csv\b\b\b\b\b\b\b\b\b\b\b\b\b\b\b\b\b\b\b\b\b\b\b\b\b                         \b\b\b\b\b\b\b\b\b\b\b\b\b\b\b\b\b\b\b\b\b\b\b\b\b 10% 1 - trip_data_10.csv\b\b\b\b\b\b\b\b\b\b\b\b\b\b\b\b\b\b\b\b\b\b\b\b\b                         \b\b\b\b\b\b\b\b\b\b\b\b\b\b\b\b\b\b\b\b\b\b\b\b\b 11% 1 - trip_data_10.csv\b\b\b\b\b\b\b\b\b\b\b\b\b\b\b\b\b\b\b\b\b\b\b\b\b                         \b\b\b\b\b\b\b\b\b\b\b\b\b\b\b\b\b\b\b\b\b\b\b\b\b 12% 1 - trip_data_10.csv\b\b\b\b\b\b\b\b\b\b\b\b\b\b\b\b\b\b\b\b\b\b\b\b\b                         \b\b\b\b\b\b\b\b\b\b\b\b\b\b\b\b\b\b\b\b\b\b\b\b\b 13% 1 - trip_data_10.csv\b\b\b\b\b\b\b\b\b\b\b\b\b\b\b\b\b\b\b\b\b\b\b\b\b                         \b\b\b\b\b\b\b\b\b\b\b\b\b\b\b\b\b\b\b\b\b\b\b\b\b\n",
            "Archives with Errors: 1\n",
            "\n",
            "\n",
            "\n",
            "Break signaled\n"
          ],
          "name": "stdout"
        }
      ]
    },
    {
      "cell_type": "code",
      "metadata": {
        "id": "MHxKb-E_VtPM",
        "colab_type": "code",
        "outputId": "4a60cda2-5f0f-4fab-c5e7-310f1f57fb33",
        "colab": {
          "base_uri": "https://localhost:8080/",
          "height": 163
        }
      },
      "source": [
        "!ls -lh"
      ],
      "execution_count": 12,
      "outputs": [
        {
          "output_type": "stream",
          "text": [
            "total 11G\n",
            "-rw-r--r-- 1 root root 1.5G Feb  5  2016 nyc_taxi.csv\n",
            "-rw-r--r-- 1 root root 413M Apr 12  2017 nyc_taxi.zip\n",
            "drwxr-xr-x 1 root root 4.0K May 31 16:17 sample_data\n",
            "-rw-r--r-- 1 root root 1.5G Jun 18 16:06 trip_data_10.csv\n",
            "-rwxr-xr-x 1 root root 2.3G May 12  2014 trip_data_1.csv\n",
            "-rw-r--r-- 1 root root 3.9G Jun 20  2014 trip_data.7z\n",
            "-rw-r--r-- 1 root root 737M Aug  3  2018 yellow_tripdata_2018-01.csv\n",
            "-rw-r--r-- 1 root root 715M Aug  3  2018 yellow_tripdata_2018-02.csv\n"
          ],
          "name": "stdout"
        }
      ]
    },
    {
      "cell_type": "markdown",
      "metadata": {
        "id": "ihKY971JhOSF",
        "colab_type": "text"
      },
      "source": [
        "# 2. Una vez descargado el archivo pueden descomprimirlo usando la siguiente instruccion\n",
        "\n",
        "Se corrió el comando indicado, pero al obtener el primer archivo se canceló la instrucción con el objetivo de no saturar el entorno de ejecución."
      ]
    },
    {
      "cell_type": "code",
      "metadata": {
        "id": "Iao-18mK8uNg",
        "colab_type": "code",
        "colab": {}
      },
      "source": [
        "import numpy as np\n",
        "import pandas as pd\n",
        "import psutil, os\n",
        "\n",
        "def huella_memoria():\n",
        "    '''Regresa la huella de memoria en MB usada por un proceso de Python'''\n",
        "    mem = psutil.Process(os.getpid()).memory_info().rss\n",
        "    return (mem / 1024**2)"
      ],
      "execution_count": 0,
      "outputs": []
    },
    {
      "cell_type": "code",
      "metadata": {
        "id": "s1Z0ve398114",
        "colab_type": "code",
        "colab": {
          "base_uri": "https://localhost:8080/",
          "height": 82
        },
        "outputId": "6f722ba9-a844-4c61-d76a-e91209c723f6"
      },
      "source": [
        "antes = huella_memoria()\n",
        "%time df = pd.read_csv('trip_data_1.csv')\n",
        "despues = huella_memoria()\n",
        "print ('Huella de memoria: {} MB'.format(despues-antes))\n",
        "print ('Memoria del sistema: {} MB'.format(sum(df.memory_usage(index=False) /1024**2)))"
      ],
      "execution_count": 14,
      "outputs": [
        {
          "output_type": "stream",
          "text": [
            "CPU times: user 57.2 s, sys: 38.5 s, total: 1min 35s\n",
            "Wall time: 1min 35s\n",
            "Huella de memoria: 1479.140625 MB\n",
            "Memoria del sistema: 1578.312759399414 MB\n"
          ],
          "name": "stdout"
        }
      ]
    },
    {
      "cell_type": "code",
      "metadata": {
        "id": "brUP4VjIB2Hq",
        "colab_type": "code",
        "colab": {
          "base_uri": "https://localhost:8080/",
          "height": 33
        },
        "outputId": "3a814cf3-69fc-4a52-845a-5041f2385c5c"
      },
      "source": [
        "df.shape"
      ],
      "execution_count": 15,
      "outputs": [
        {
          "output_type": "execute_result",
          "data": {
            "text/plain": [
              "(14776615, 14)"
            ]
          },
          "metadata": {
            "tags": []
          },
          "execution_count": 15
        }
      ]
    },
    {
      "cell_type": "code",
      "metadata": {
        "id": "HyPAc8kzDG4o",
        "colab_type": "code",
        "colab": {
          "base_uri": "https://localhost:8080/",
          "height": 115
        },
        "outputId": "ad1f2305-3ecc-4cdf-fdb9-e3a710e50025"
      },
      "source": [
        "df.columns"
      ],
      "execution_count": 16,
      "outputs": [
        {
          "output_type": "execute_result",
          "data": {
            "text/plain": [
              "Index(['medallion', 'hack_license', 'vendor_id', 'rate_code',\n",
              "       'store_and_fwd_flag', 'pickup_datetime', 'dropoff_datetime',\n",
              "       'passenger_count', 'trip_time_in_secs', 'trip_distance',\n",
              "       'pickup_longitude', 'pickup_latitude', 'dropoff_longitude',\n",
              "       'dropoff_latitude'],\n",
              "      dtype='object')"
            ]
          },
          "metadata": {
            "tags": []
          },
          "execution_count": 16
        }
      ]
    },
    {
      "cell_type": "markdown",
      "metadata": {
        "id": "mzeRhk-Z8XZa",
        "colab_type": "text"
      },
      "source": [
        "# 3. Responder las siguientes preguntas:\n",
        "\n",
        "1.   Cuantas columnas contiene cada archivo de datos descomprimido.\n",
        "2.   Cuantos renglones tiene cada archivo.\n",
        "\n",
        "##Después de cargar el archivo con la librería pandas se utiliza la propiedad \"shape\" para obtener que el archivo cuenta con 14 columnas y 14,776,6145 renglones.\n",
        "\n",
        "### Las columnas son:\n",
        "\n",
        "*   medallion\n",
        "*   hack_license\n",
        "*   vendor_id\n",
        "*   rate_code\n",
        "*   store_and_fwd_flag\n",
        "*   pickup_datetime\n",
        "*   dropoff_datetime\n",
        "*   passenger_count\n",
        "*   trip_time_in_secs\n",
        "*   trip_distance\n",
        "*   pickup_longitude\n",
        "*   pickup_latitude\n",
        "*   dropoff_longitude\n",
        "*   dropoff_latitude"
      ]
    },
    {
      "cell_type": "code",
      "metadata": {
        "id": "chA1doWhFcfr",
        "colab_type": "code",
        "colab": {
          "base_uri": "https://localhost:8080/",
          "height": 211
        },
        "outputId": "c9b7f113-6a76-4582-d35c-8054f73c7a04"
      },
      "source": [
        "df.head()"
      ],
      "execution_count": 17,
      "outputs": [
        {
          "output_type": "execute_result",
          "data": {
            "text/html": [
              "<div>\n",
              "<style scoped>\n",
              "    .dataframe tbody tr th:only-of-type {\n",
              "        vertical-align: middle;\n",
              "    }\n",
              "\n",
              "    .dataframe tbody tr th {\n",
              "        vertical-align: top;\n",
              "    }\n",
              "\n",
              "    .dataframe thead th {\n",
              "        text-align: right;\n",
              "    }\n",
              "</style>\n",
              "<table border=\"1\" class=\"dataframe\">\n",
              "  <thead>\n",
              "    <tr style=\"text-align: right;\">\n",
              "      <th></th>\n",
              "      <th>medallion</th>\n",
              "      <th>hack_license</th>\n",
              "      <th>vendor_id</th>\n",
              "      <th>rate_code</th>\n",
              "      <th>store_and_fwd_flag</th>\n",
              "      <th>pickup_datetime</th>\n",
              "      <th>dropoff_datetime</th>\n",
              "      <th>passenger_count</th>\n",
              "      <th>trip_time_in_secs</th>\n",
              "      <th>trip_distance</th>\n",
              "      <th>pickup_longitude</th>\n",
              "      <th>pickup_latitude</th>\n",
              "      <th>dropoff_longitude</th>\n",
              "      <th>dropoff_latitude</th>\n",
              "    </tr>\n",
              "  </thead>\n",
              "  <tbody>\n",
              "    <tr>\n",
              "      <th>0</th>\n",
              "      <td>89D227B655E5C82AECF13C3F540D4CF4</td>\n",
              "      <td>BA96DE419E711691B9445D6A6307C170</td>\n",
              "      <td>CMT</td>\n",
              "      <td>1</td>\n",
              "      <td>N</td>\n",
              "      <td>2013-01-01 15:11:48</td>\n",
              "      <td>2013-01-01 15:18:10</td>\n",
              "      <td>4</td>\n",
              "      <td>382</td>\n",
              "      <td>1.0</td>\n",
              "      <td>-73.978165</td>\n",
              "      <td>40.757977</td>\n",
              "      <td>-73.989838</td>\n",
              "      <td>40.751171</td>\n",
              "    </tr>\n",
              "    <tr>\n",
              "      <th>1</th>\n",
              "      <td>0BD7C8F5BA12B88E0B67BED28BEA73D8</td>\n",
              "      <td>9FD8F69F0804BDB5549F40E9DA1BE472</td>\n",
              "      <td>CMT</td>\n",
              "      <td>1</td>\n",
              "      <td>N</td>\n",
              "      <td>2013-01-06 00:18:35</td>\n",
              "      <td>2013-01-06 00:22:54</td>\n",
              "      <td>1</td>\n",
              "      <td>259</td>\n",
              "      <td>1.5</td>\n",
              "      <td>-74.006683</td>\n",
              "      <td>40.731781</td>\n",
              "      <td>-73.994499</td>\n",
              "      <td>40.750660</td>\n",
              "    </tr>\n",
              "    <tr>\n",
              "      <th>2</th>\n",
              "      <td>0BD7C8F5BA12B88E0B67BED28BEA73D8</td>\n",
              "      <td>9FD8F69F0804BDB5549F40E9DA1BE472</td>\n",
              "      <td>CMT</td>\n",
              "      <td>1</td>\n",
              "      <td>N</td>\n",
              "      <td>2013-01-05 18:49:41</td>\n",
              "      <td>2013-01-05 18:54:23</td>\n",
              "      <td>1</td>\n",
              "      <td>282</td>\n",
              "      <td>1.1</td>\n",
              "      <td>-74.004707</td>\n",
              "      <td>40.737770</td>\n",
              "      <td>-74.009834</td>\n",
              "      <td>40.726002</td>\n",
              "    </tr>\n",
              "    <tr>\n",
              "      <th>3</th>\n",
              "      <td>DFD2202EE08F7A8DC9A57B02ACB81FE2</td>\n",
              "      <td>51EE87E3205C985EF8431D850C786310</td>\n",
              "      <td>CMT</td>\n",
              "      <td>1</td>\n",
              "      <td>N</td>\n",
              "      <td>2013-01-07 23:54:15</td>\n",
              "      <td>2013-01-07 23:58:20</td>\n",
              "      <td>2</td>\n",
              "      <td>244</td>\n",
              "      <td>0.7</td>\n",
              "      <td>-73.974602</td>\n",
              "      <td>40.759945</td>\n",
              "      <td>-73.984734</td>\n",
              "      <td>40.759388</td>\n",
              "    </tr>\n",
              "    <tr>\n",
              "      <th>4</th>\n",
              "      <td>DFD2202EE08F7A8DC9A57B02ACB81FE2</td>\n",
              "      <td>51EE87E3205C985EF8431D850C786310</td>\n",
              "      <td>CMT</td>\n",
              "      <td>1</td>\n",
              "      <td>N</td>\n",
              "      <td>2013-01-07 23:25:03</td>\n",
              "      <td>2013-01-07 23:34:24</td>\n",
              "      <td>1</td>\n",
              "      <td>560</td>\n",
              "      <td>2.1</td>\n",
              "      <td>-73.976250</td>\n",
              "      <td>40.748528</td>\n",
              "      <td>-74.002586</td>\n",
              "      <td>40.747868</td>\n",
              "    </tr>\n",
              "  </tbody>\n",
              "</table>\n",
              "</div>"
            ],
            "text/plain": [
              "                          medallion  ... dropoff_latitude\n",
              "0  89D227B655E5C82AECF13C3F540D4CF4  ...        40.751171\n",
              "1  0BD7C8F5BA12B88E0B67BED28BEA73D8  ...        40.750660\n",
              "2  0BD7C8F5BA12B88E0B67BED28BEA73D8  ...        40.726002\n",
              "3  DFD2202EE08F7A8DC9A57B02ACB81FE2  ...        40.759388\n",
              "4  DFD2202EE08F7A8DC9A57B02ACB81FE2  ...        40.747868\n",
              "\n",
              "[5 rows x 14 columns]"
            ]
          },
          "metadata": {
            "tags": []
          },
          "execution_count": 17
        }
      ]
    },
    {
      "cell_type": "code",
      "metadata": {
        "id": "y35QrD0DGpHL",
        "colab_type": "code",
        "colab": {
          "base_uri": "https://localhost:8080/",
          "height": 211
        },
        "outputId": "cfc291e6-eb5b-4599-b1a1-36085744ebd1"
      },
      "source": [
        "df.tail()"
      ],
      "execution_count": 18,
      "outputs": [
        {
          "output_type": "execute_result",
          "data": {
            "text/html": [
              "<div>\n",
              "<style scoped>\n",
              "    .dataframe tbody tr th:only-of-type {\n",
              "        vertical-align: middle;\n",
              "    }\n",
              "\n",
              "    .dataframe tbody tr th {\n",
              "        vertical-align: top;\n",
              "    }\n",
              "\n",
              "    .dataframe thead th {\n",
              "        text-align: right;\n",
              "    }\n",
              "</style>\n",
              "<table border=\"1\" class=\"dataframe\">\n",
              "  <thead>\n",
              "    <tr style=\"text-align: right;\">\n",
              "      <th></th>\n",
              "      <th>medallion</th>\n",
              "      <th>hack_license</th>\n",
              "      <th>vendor_id</th>\n",
              "      <th>rate_code</th>\n",
              "      <th>store_and_fwd_flag</th>\n",
              "      <th>pickup_datetime</th>\n",
              "      <th>dropoff_datetime</th>\n",
              "      <th>passenger_count</th>\n",
              "      <th>trip_time_in_secs</th>\n",
              "      <th>trip_distance</th>\n",
              "      <th>pickup_longitude</th>\n",
              "      <th>pickup_latitude</th>\n",
              "      <th>dropoff_longitude</th>\n",
              "      <th>dropoff_latitude</th>\n",
              "    </tr>\n",
              "  </thead>\n",
              "  <tbody>\n",
              "    <tr>\n",
              "      <th>14776610</th>\n",
              "      <td>B33E71CD9E8FE1BE3B70FEB6E807DD15</td>\n",
              "      <td>BAF57796E45D921BB23217E17A372FF6</td>\n",
              "      <td>CMT</td>\n",
              "      <td>1</td>\n",
              "      <td>N</td>\n",
              "      <td>2013-01-06 04:58:23</td>\n",
              "      <td>2013-01-06 05:11:24</td>\n",
              "      <td>1</td>\n",
              "      <td>781</td>\n",
              "      <td>3.3</td>\n",
              "      <td>-73.989029</td>\n",
              "      <td>40.759327</td>\n",
              "      <td>-73.953743</td>\n",
              "      <td>40.770672</td>\n",
              "    </tr>\n",
              "    <tr>\n",
              "      <th>14776611</th>\n",
              "      <td>ED160B76D5349C8AC1ECF22CD4B8D538</td>\n",
              "      <td>3B93F6DA5DEBDE9560993FA624C4FF76</td>\n",
              "      <td>CMT</td>\n",
              "      <td>1</td>\n",
              "      <td>N</td>\n",
              "      <td>2013-01-08 14:42:04</td>\n",
              "      <td>2013-01-08 14:50:27</td>\n",
              "      <td>1</td>\n",
              "      <td>503</td>\n",
              "      <td>1.0</td>\n",
              "      <td>-73.993042</td>\n",
              "      <td>40.733990</td>\n",
              "      <td>-73.982483</td>\n",
              "      <td>40.724823</td>\n",
              "    </tr>\n",
              "    <tr>\n",
              "      <th>14776612</th>\n",
              "      <td>D83F9AC0E33F6F19869C243BE6AB6FE5</td>\n",
              "      <td>85A55B6772275374EF90AC9457DC1F83</td>\n",
              "      <td>CMT</td>\n",
              "      <td>1</td>\n",
              "      <td>N</td>\n",
              "      <td>2013-01-10 13:29:23</td>\n",
              "      <td>2013-01-10 13:34:45</td>\n",
              "      <td>1</td>\n",
              "      <td>321</td>\n",
              "      <td>0.9</td>\n",
              "      <td>-73.979553</td>\n",
              "      <td>40.785011</td>\n",
              "      <td>-73.968262</td>\n",
              "      <td>40.788158</td>\n",
              "    </tr>\n",
              "    <tr>\n",
              "      <th>14776613</th>\n",
              "      <td>04E59442A7DDBCE515E33CD355D866E7</td>\n",
              "      <td>7913172189931A1A1632562B10AB53C4</td>\n",
              "      <td>CMT</td>\n",
              "      <td>1</td>\n",
              "      <td>N</td>\n",
              "      <td>2013-01-06 16:30:15</td>\n",
              "      <td>2013-01-06 16:42:26</td>\n",
              "      <td>1</td>\n",
              "      <td>730</td>\n",
              "      <td>1.3</td>\n",
              "      <td>-73.968002</td>\n",
              "      <td>40.762161</td>\n",
              "      <td>-73.985992</td>\n",
              "      <td>40.770542</td>\n",
              "    </tr>\n",
              "    <tr>\n",
              "      <th>14776614</th>\n",
              "      <td>D30BED60331C79E3F7ACD05B325ED42F</td>\n",
              "      <td>B5E1D2461A5BCC8819188DACEC17CD69</td>\n",
              "      <td>CMT</td>\n",
              "      <td>1</td>\n",
              "      <td>N</td>\n",
              "      <td>2013-01-05 20:38:46</td>\n",
              "      <td>2013-01-05 20:43:06</td>\n",
              "      <td>1</td>\n",
              "      <td>260</td>\n",
              "      <td>0.8</td>\n",
              "      <td>-73.982224</td>\n",
              "      <td>40.766670</td>\n",
              "      <td>-73.989212</td>\n",
              "      <td>40.773636</td>\n",
              "    </tr>\n",
              "  </tbody>\n",
              "</table>\n",
              "</div>"
            ],
            "text/plain": [
              "                                 medallion  ... dropoff_latitude\n",
              "14776610  B33E71CD9E8FE1BE3B70FEB6E807DD15  ...        40.770672\n",
              "14776611  ED160B76D5349C8AC1ECF22CD4B8D538  ...        40.724823\n",
              "14776612  D83F9AC0E33F6F19869C243BE6AB6FE5  ...        40.788158\n",
              "14776613  04E59442A7DDBCE515E33CD355D866E7  ...        40.770542\n",
              "14776614  D30BED60331C79E3F7ACD05B325ED42F  ...        40.773636\n",
              "\n",
              "[5 rows x 14 columns]"
            ]
          },
          "metadata": {
            "tags": []
          },
          "execution_count": 18
        }
      ]
    },
    {
      "cell_type": "code",
      "metadata": {
        "id": "kpuvWyQ_GwQM",
        "colab_type": "code",
        "colab": {
          "base_uri": "https://localhost:8080/",
          "height": 67
        },
        "outputId": "26b5f66b-cf1e-463a-d820-70aa080d95b2"
      },
      "source": [
        "# Verificando registros sin Medallón\n",
        "df[df['medallion'].str.len()<30]"
      ],
      "execution_count": 35,
      "outputs": [
        {
          "output_type": "execute_result",
          "data": {
            "text/html": [
              "<div>\n",
              "<style scoped>\n",
              "    .dataframe tbody tr th:only-of-type {\n",
              "        vertical-align: middle;\n",
              "    }\n",
              "\n",
              "    .dataframe tbody tr th {\n",
              "        vertical-align: top;\n",
              "    }\n",
              "\n",
              "    .dataframe thead th {\n",
              "        text-align: right;\n",
              "    }\n",
              "</style>\n",
              "<table border=\"1\" class=\"dataframe\">\n",
              "  <thead>\n",
              "    <tr style=\"text-align: right;\">\n",
              "      <th></th>\n",
              "      <th>medallion</th>\n",
              "      <th>hack_license</th>\n",
              "      <th>vendor_id</th>\n",
              "      <th>rate_code</th>\n",
              "      <th>store_and_fwd_flag</th>\n",
              "      <th>pickup_datetime</th>\n",
              "      <th>dropoff_datetime</th>\n",
              "      <th>passenger_count</th>\n",
              "      <th>trip_time_in_secs</th>\n",
              "      <th>trip_distance</th>\n",
              "      <th>pickup_longitude</th>\n",
              "      <th>pickup_latitude</th>\n",
              "      <th>dropoff_longitude</th>\n",
              "      <th>dropoff_latitude</th>\n",
              "    </tr>\n",
              "  </thead>\n",
              "  <tbody>\n",
              "  </tbody>\n",
              "</table>\n",
              "</div>"
            ],
            "text/plain": [
              "Empty DataFrame\n",
              "Columns: [medallion, hack_license, vendor_id, rate_code, store_and_fwd_flag, pickup_datetime, dropoff_datetime, passenger_count, trip_time_in_secs, trip_distance, pickup_longitude, pickup_latitude, dropoff_longitude, dropoff_latitude]\n",
              "Index: []"
            ]
          },
          "metadata": {
            "tags": []
          },
          "execution_count": 35
        }
      ]
    },
    {
      "cell_type": "code",
      "metadata": {
        "id": "uLj1Ku-IIl1i",
        "colab_type": "code",
        "colab": {
          "base_uri": "https://localhost:8080/",
          "height": 67
        },
        "outputId": "f518807a-7a1a-49c3-f3ee-13a8e81d109b"
      },
      "source": [
        "# Verificando registros sin licencia\n",
        "df[df['hack_license'].str.len()<30]"
      ],
      "execution_count": 36,
      "outputs": [
        {
          "output_type": "execute_result",
          "data": {
            "text/html": [
              "<div>\n",
              "<style scoped>\n",
              "    .dataframe tbody tr th:only-of-type {\n",
              "        vertical-align: middle;\n",
              "    }\n",
              "\n",
              "    .dataframe tbody tr th {\n",
              "        vertical-align: top;\n",
              "    }\n",
              "\n",
              "    .dataframe thead th {\n",
              "        text-align: right;\n",
              "    }\n",
              "</style>\n",
              "<table border=\"1\" class=\"dataframe\">\n",
              "  <thead>\n",
              "    <tr style=\"text-align: right;\">\n",
              "      <th></th>\n",
              "      <th>medallion</th>\n",
              "      <th>hack_license</th>\n",
              "      <th>vendor_id</th>\n",
              "      <th>rate_code</th>\n",
              "      <th>store_and_fwd_flag</th>\n",
              "      <th>pickup_datetime</th>\n",
              "      <th>dropoff_datetime</th>\n",
              "      <th>passenger_count</th>\n",
              "      <th>trip_time_in_secs</th>\n",
              "      <th>trip_distance</th>\n",
              "      <th>pickup_longitude</th>\n",
              "      <th>pickup_latitude</th>\n",
              "      <th>dropoff_longitude</th>\n",
              "      <th>dropoff_latitude</th>\n",
              "    </tr>\n",
              "  </thead>\n",
              "  <tbody>\n",
              "  </tbody>\n",
              "</table>\n",
              "</div>"
            ],
            "text/plain": [
              "Empty DataFrame\n",
              "Columns: [medallion, hack_license, vendor_id, rate_code, store_and_fwd_flag, pickup_datetime, dropoff_datetime, passenger_count, trip_time_in_secs, trip_distance, pickup_longitude, pickup_latitude, dropoff_longitude, dropoff_latitude]\n",
              "Index: []"
            ]
          },
          "metadata": {
            "tags": []
          },
          "execution_count": 36
        }
      ]
    },
    {
      "cell_type": "code",
      "metadata": {
        "id": "wbMl7SmoQQl1",
        "colab_type": "code",
        "colab": {
          "base_uri": "https://localhost:8080/",
          "height": 33
        },
        "outputId": "4d535c64-94f6-4153-f732-c7ace7039700"
      },
      "source": [
        "df['vendor_id'].unique()"
      ],
      "execution_count": 54,
      "outputs": [
        {
          "output_type": "execute_result",
          "data": {
            "text/plain": [
              "array(['CMT', 'VTS'], dtype=object)"
            ]
          },
          "metadata": {
            "tags": []
          },
          "execution_count": 54
        }
      ]
    },
    {
      "cell_type": "code",
      "metadata": {
        "id": "MwedJmyaIxu8",
        "colab_type": "code",
        "colab": {
          "base_uri": "https://localhost:8080/",
          "height": 67
        },
        "outputId": "d52b902a-c58c-49e7-e763-15d0e95166a4"
      },
      "source": [
        "# Verificando registros sin vendedor\n",
        "df[df['vendor_id'].str.len()<3]"
      ],
      "execution_count": 40,
      "outputs": [
        {
          "output_type": "execute_result",
          "data": {
            "text/html": [
              "<div>\n",
              "<style scoped>\n",
              "    .dataframe tbody tr th:only-of-type {\n",
              "        vertical-align: middle;\n",
              "    }\n",
              "\n",
              "    .dataframe tbody tr th {\n",
              "        vertical-align: top;\n",
              "    }\n",
              "\n",
              "    .dataframe thead th {\n",
              "        text-align: right;\n",
              "    }\n",
              "</style>\n",
              "<table border=\"1\" class=\"dataframe\">\n",
              "  <thead>\n",
              "    <tr style=\"text-align: right;\">\n",
              "      <th></th>\n",
              "      <th>medallion</th>\n",
              "      <th>hack_license</th>\n",
              "      <th>vendor_id</th>\n",
              "      <th>rate_code</th>\n",
              "      <th>store_and_fwd_flag</th>\n",
              "      <th>pickup_datetime</th>\n",
              "      <th>dropoff_datetime</th>\n",
              "      <th>passenger_count</th>\n",
              "      <th>trip_time_in_secs</th>\n",
              "      <th>trip_distance</th>\n",
              "      <th>pickup_longitude</th>\n",
              "      <th>pickup_latitude</th>\n",
              "      <th>dropoff_longitude</th>\n",
              "      <th>dropoff_latitude</th>\n",
              "    </tr>\n",
              "  </thead>\n",
              "  <tbody>\n",
              "  </tbody>\n",
              "</table>\n",
              "</div>"
            ],
            "text/plain": [
              "Empty DataFrame\n",
              "Columns: [medallion, hack_license, vendor_id, rate_code, store_and_fwd_flag, pickup_datetime, dropoff_datetime, passenger_count, trip_time_in_secs, trip_distance, pickup_longitude, pickup_latitude, dropoff_longitude, dropoff_latitude]\n",
              "Index: []"
            ]
          },
          "metadata": {
            "tags": []
          },
          "execution_count": 40
        }
      ]
    },
    {
      "cell_type": "code",
      "metadata": {
        "id": "Lioh8oV8NrbB",
        "colab_type": "code",
        "colab": {
          "base_uri": "https://localhost:8080/",
          "height": 50
        },
        "outputId": "e7a68517-9737-4603-8ba4-634ac4285d7b"
      },
      "source": [
        "df['rate_code'].unique()"
      ],
      "execution_count": 53,
      "outputs": [
        {
          "output_type": "execute_result",
          "data": {
            "text/plain": [
              "array([  1,   2,   4,   5,   3,   6,   8,   0, 210,  28,   7,   9,  65,\n",
              "       128])"
            ]
          },
          "metadata": {
            "tags": []
          },
          "execution_count": 53
        }
      ]
    },
    {
      "cell_type": "code",
      "metadata": {
        "id": "Ocg0LpKqNCV0",
        "colab_type": "code",
        "colab": {
          "base_uri": "https://localhost:8080/",
          "height": 585
        },
        "outputId": "75c154e3-10c5-4b09-a778-b3aafd48f3e1"
      },
      "source": [
        "df[df['rate_code']>9]"
      ],
      "execution_count": 47,
      "outputs": [
        {
          "output_type": "execute_result",
          "data": {
            "text/html": [
              "<div>\n",
              "<style scoped>\n",
              "    .dataframe tbody tr th:only-of-type {\n",
              "        vertical-align: middle;\n",
              "    }\n",
              "\n",
              "    .dataframe tbody tr th {\n",
              "        vertical-align: top;\n",
              "    }\n",
              "\n",
              "    .dataframe thead th {\n",
              "        text-align: right;\n",
              "    }\n",
              "</style>\n",
              "<table border=\"1\" class=\"dataframe\">\n",
              "  <thead>\n",
              "    <tr style=\"text-align: right;\">\n",
              "      <th></th>\n",
              "      <th>medallion</th>\n",
              "      <th>hack_license</th>\n",
              "      <th>vendor_id</th>\n",
              "      <th>rate_code</th>\n",
              "      <th>store_and_fwd_flag</th>\n",
              "      <th>pickup_datetime</th>\n",
              "      <th>dropoff_datetime</th>\n",
              "      <th>passenger_count</th>\n",
              "      <th>trip_time_in_secs</th>\n",
              "      <th>trip_distance</th>\n",
              "      <th>pickup_longitude</th>\n",
              "      <th>pickup_latitude</th>\n",
              "      <th>dropoff_longitude</th>\n",
              "      <th>dropoff_latitude</th>\n",
              "    </tr>\n",
              "  </thead>\n",
              "  <tbody>\n",
              "    <tr>\n",
              "      <th>2540625</th>\n",
              "      <td>F5818A7D75529449112CD423EA58626C</td>\n",
              "      <td>3854656E0C4C9BA60A26295D68EF4EE8</td>\n",
              "      <td>CMT</td>\n",
              "      <td>210</td>\n",
              "      <td>N</td>\n",
              "      <td>2013-01-02 20:07:05</td>\n",
              "      <td>2013-01-02 20:20:59</td>\n",
              "      <td>1</td>\n",
              "      <td>833</td>\n",
              "      <td>2.6</td>\n",
              "      <td>-73.987122</td>\n",
              "      <td>40.752220</td>\n",
              "      <td>-73.988487</td>\n",
              "      <td>40.719772</td>\n",
              "    </tr>\n",
              "    <tr>\n",
              "      <th>2982293</th>\n",
              "      <td>61C22E72D833C1F868293A9DE377CA8E</td>\n",
              "      <td>0FC602C2A935F5061F1012DBE9A893E5</td>\n",
              "      <td>CMT</td>\n",
              "      <td>210</td>\n",
              "      <td>N</td>\n",
              "      <td>2013-01-06 07:11:17</td>\n",
              "      <td>2013-01-06 07:20:12</td>\n",
              "      <td>1</td>\n",
              "      <td>535</td>\n",
              "      <td>5.3</td>\n",
              "      <td>-73.954391</td>\n",
              "      <td>40.789707</td>\n",
              "      <td>-73.944160</td>\n",
              "      <td>40.843048</td>\n",
              "    </tr>\n",
              "    <tr>\n",
              "      <th>3389092</th>\n",
              "      <td>85666EE5D2EDFDAC22041D2B6ACF0D71</td>\n",
              "      <td>20558EC4435688C67A76F05C1CB216D8</td>\n",
              "      <td>CMT</td>\n",
              "      <td>210</td>\n",
              "      <td>N</td>\n",
              "      <td>2013-01-10 11:23:27</td>\n",
              "      <td>2013-01-10 11:33:55</td>\n",
              "      <td>1</td>\n",
              "      <td>628</td>\n",
              "      <td>1.7</td>\n",
              "      <td>-73.979828</td>\n",
              "      <td>40.765343</td>\n",
              "      <td>-73.976311</td>\n",
              "      <td>40.744682</td>\n",
              "    </tr>\n",
              "    <tr>\n",
              "      <th>4055114</th>\n",
              "      <td>E523F84E85708BCEB9FEB6F7825C0E08</td>\n",
              "      <td>8B9EB8B7A837B4C28A2C54D3AEB6A442</td>\n",
              "      <td>CMT</td>\n",
              "      <td>28</td>\n",
              "      <td>N</td>\n",
              "      <td>2013-01-15 17:30:34</td>\n",
              "      <td>2013-01-15 18:52:00</td>\n",
              "      <td>1</td>\n",
              "      <td>4886</td>\n",
              "      <td>13.4</td>\n",
              "      <td>-73.843529</td>\n",
              "      <td>40.733173</td>\n",
              "      <td>-73.906349</td>\n",
              "      <td>40.745289</td>\n",
              "    </tr>\n",
              "    <tr>\n",
              "      <th>6255682</th>\n",
              "      <td>7EC413823306154C3808A882DF771A1E</td>\n",
              "      <td>A070F43524E97B976AA05260823123D6</td>\n",
              "      <td>CMT</td>\n",
              "      <td>210</td>\n",
              "      <td>N</td>\n",
              "      <td>2013-01-03 16:17:51</td>\n",
              "      <td>2013-01-03 16:30:43</td>\n",
              "      <td>1</td>\n",
              "      <td>771</td>\n",
              "      <td>1.2</td>\n",
              "      <td>-73.991890</td>\n",
              "      <td>40.744198</td>\n",
              "      <td>-73.997925</td>\n",
              "      <td>40.756237</td>\n",
              "    </tr>\n",
              "    <tr>\n",
              "      <th>6759185</th>\n",
              "      <td>C499715B8AC7FC95E2E24C56BDB957C9</td>\n",
              "      <td>F9B944F6E93AC9F699488AC14DB6245B</td>\n",
              "      <td>CMT</td>\n",
              "      <td>210</td>\n",
              "      <td>N</td>\n",
              "      <td>2013-01-15 11:36:46</td>\n",
              "      <td>2013-01-15 11:49:59</td>\n",
              "      <td>1</td>\n",
              "      <td>793</td>\n",
              "      <td>2.2</td>\n",
              "      <td>-74.005051</td>\n",
              "      <td>40.719086</td>\n",
              "      <td>-73.986336</td>\n",
              "      <td>40.739906</td>\n",
              "    </tr>\n",
              "    <tr>\n",
              "      <th>6841339</th>\n",
              "      <td>A38C0393DB4A916A99E4B345B2F70D92</td>\n",
              "      <td>E130CCC77720F124DE3D10C498700CC7</td>\n",
              "      <td>CMT</td>\n",
              "      <td>210</td>\n",
              "      <td>N</td>\n",
              "      <td>2013-01-02 18:01:00</td>\n",
              "      <td>2013-01-02 18:19:30</td>\n",
              "      <td>4</td>\n",
              "      <td>1109</td>\n",
              "      <td>1.5</td>\n",
              "      <td>-73.973732</td>\n",
              "      <td>40.763069</td>\n",
              "      <td>-73.992729</td>\n",
              "      <td>40.756718</td>\n",
              "    </tr>\n",
              "    <tr>\n",
              "      <th>6867270</th>\n",
              "      <td>4BA19608138BFFCCAEC0DEB910D5BFBE</td>\n",
              "      <td>957178F85806D8B2EA6BBAC8D65A368A</td>\n",
              "      <td>CMT</td>\n",
              "      <td>210</td>\n",
              "      <td>N</td>\n",
              "      <td>2013-01-15 11:30:37</td>\n",
              "      <td>2013-01-15 11:50:29</td>\n",
              "      <td>3</td>\n",
              "      <td>1191</td>\n",
              "      <td>5.2</td>\n",
              "      <td>-74.005043</td>\n",
              "      <td>40.707088</td>\n",
              "      <td>-73.999611</td>\n",
              "      <td>40.763000</td>\n",
              "    </tr>\n",
              "    <tr>\n",
              "      <th>7035307</th>\n",
              "      <td>E523F84E85708BCEB9FEB6F7825C0E08</td>\n",
              "      <td>305F98E26E9C7EDA65EF92131C01198C</td>\n",
              "      <td>CMT</td>\n",
              "      <td>28</td>\n",
              "      <td>N</td>\n",
              "      <td>2013-01-14 01:32:49</td>\n",
              "      <td>2013-01-14 02:11:12</td>\n",
              "      <td>1</td>\n",
              "      <td>2303</td>\n",
              "      <td>2.2</td>\n",
              "      <td>-73.994225</td>\n",
              "      <td>40.755878</td>\n",
              "      <td>-73.951408</td>\n",
              "      <td>40.825195</td>\n",
              "    </tr>\n",
              "    <tr>\n",
              "      <th>7096961</th>\n",
              "      <td>F6B90945F15CDB501B0C18E2163BF96E</td>\n",
              "      <td>04D102ACF5ED6B96174ED451ADB60EB7</td>\n",
              "      <td>CMT</td>\n",
              "      <td>210</td>\n",
              "      <td>N</td>\n",
              "      <td>2013-01-10 13:56:57</td>\n",
              "      <td>2013-01-10 14:36:06</td>\n",
              "      <td>1</td>\n",
              "      <td>2349</td>\n",
              "      <td>19.2</td>\n",
              "      <td>-73.955849</td>\n",
              "      <td>40.778938</td>\n",
              "      <td>-73.782364</td>\n",
              "      <td>40.644165</td>\n",
              "    </tr>\n",
              "    <tr>\n",
              "      <th>7958549</th>\n",
              "      <td>8C4F18BF18A8ECAB898369409A09CC17</td>\n",
              "      <td>3FA92EF60AD7FFA87266AD35B76B1BC4</td>\n",
              "      <td>CMT</td>\n",
              "      <td>210</td>\n",
              "      <td>N</td>\n",
              "      <td>2013-01-21 18:28:30</td>\n",
              "      <td>2013-01-21 18:44:08</td>\n",
              "      <td>1</td>\n",
              "      <td>938</td>\n",
              "      <td>4.6</td>\n",
              "      <td>-73.975777</td>\n",
              "      <td>40.749882</td>\n",
              "      <td>-73.943130</td>\n",
              "      <td>40.768764</td>\n",
              "    </tr>\n",
              "    <tr>\n",
              "      <th>10724973</th>\n",
              "      <td>11FB95AC57D4AA4CB82BB2E061C53374</td>\n",
              "      <td>75950CC7D3A612585E645509BE9636C8</td>\n",
              "      <td>CMT</td>\n",
              "      <td>210</td>\n",
              "      <td>N</td>\n",
              "      <td>2013-01-31 15:33:15</td>\n",
              "      <td>2013-01-31 16:02:27</td>\n",
              "      <td>3</td>\n",
              "      <td>1752</td>\n",
              "      <td>5.5</td>\n",
              "      <td>-73.989326</td>\n",
              "      <td>40.773426</td>\n",
              "      <td>-73.987228</td>\n",
              "      <td>40.715248</td>\n",
              "    </tr>\n",
              "    <tr>\n",
              "      <th>11193753</th>\n",
              "      <td>E523F84E85708BCEB9FEB6F7825C0E08</td>\n",
              "      <td>305F98E26E9C7EDA65EF92131C01198C</td>\n",
              "      <td>CMT</td>\n",
              "      <td>65</td>\n",
              "      <td>N</td>\n",
              "      <td>2013-01-28 01:18:22</td>\n",
              "      <td>2013-01-28 02:09:36</td>\n",
              "      <td>1</td>\n",
              "      <td>3074</td>\n",
              "      <td>5.5</td>\n",
              "      <td>-73.987167</td>\n",
              "      <td>40.729111</td>\n",
              "      <td>-73.950867</td>\n",
              "      <td>40.714134</td>\n",
              "    </tr>\n",
              "    <tr>\n",
              "      <th>11777985</th>\n",
              "      <td>EFB08EF1CDA77CC654234F098E06E90C</td>\n",
              "      <td>A91625A6004F32A7482A209D5A1BC174</td>\n",
              "      <td>CMT</td>\n",
              "      <td>210</td>\n",
              "      <td>N</td>\n",
              "      <td>2013-01-19 13:23:20</td>\n",
              "      <td>2013-01-19 13:44:51</td>\n",
              "      <td>2</td>\n",
              "      <td>1290</td>\n",
              "      <td>3.6</td>\n",
              "      <td>-73.970078</td>\n",
              "      <td>40.759342</td>\n",
              "      <td>-74.004150</td>\n",
              "      <td>40.747898</td>\n",
              "    </tr>\n",
              "    <tr>\n",
              "      <th>12513429</th>\n",
              "      <td>41D2AC8217D65CF5B493D009BEC5221E</td>\n",
              "      <td>0AC2063528084286DE7626476DD645F8</td>\n",
              "      <td>VTS</td>\n",
              "      <td>128</td>\n",
              "      <td>NaN</td>\n",
              "      <td>2013-01-09 10:27:00</td>\n",
              "      <td>2013-01-09 10:28:00</td>\n",
              "      <td>1</td>\n",
              "      <td>60</td>\n",
              "      <td>0.0</td>\n",
              "      <td>0.000000</td>\n",
              "      <td>0.000000</td>\n",
              "      <td>0.000000</td>\n",
              "      <td>0.000000</td>\n",
              "    </tr>\n",
              "    <tr>\n",
              "      <th>12518428</th>\n",
              "      <td>41D2AC8217D65CF5B493D009BEC5221E</td>\n",
              "      <td>0AC2063528084286DE7626476DD645F8</td>\n",
              "      <td>VTS</td>\n",
              "      <td>128</td>\n",
              "      <td>NaN</td>\n",
              "      <td>2013-01-09 10:19:00</td>\n",
              "      <td>2013-01-09 10:21:00</td>\n",
              "      <td>1</td>\n",
              "      <td>120</td>\n",
              "      <td>0.0</td>\n",
              "      <td>0.000000</td>\n",
              "      <td>0.000000</td>\n",
              "      <td>0.000000</td>\n",
              "      <td>0.000000</td>\n",
              "    </tr>\n",
              "    <tr>\n",
              "      <th>12518752</th>\n",
              "      <td>41D2AC8217D65CF5B493D009BEC5221E</td>\n",
              "      <td>0AC2063528084286DE7626476DD645F8</td>\n",
              "      <td>VTS</td>\n",
              "      <td>128</td>\n",
              "      <td>NaN</td>\n",
              "      <td>2013-01-09 10:23:00</td>\n",
              "      <td>2013-01-09 10:24:00</td>\n",
              "      <td>1</td>\n",
              "      <td>60</td>\n",
              "      <td>0.0</td>\n",
              "      <td>0.000000</td>\n",
              "      <td>0.000000</td>\n",
              "      <td>0.000000</td>\n",
              "      <td>0.000000</td>\n",
              "    </tr>\n",
              "    <tr>\n",
              "      <th>12642203</th>\n",
              "      <td>41D2AC8217D65CF5B493D009BEC5221E</td>\n",
              "      <td>0AC2063528084286DE7626476DD645F8</td>\n",
              "      <td>VTS</td>\n",
              "      <td>128</td>\n",
              "      <td>NaN</td>\n",
              "      <td>2013-01-09 19:34:00</td>\n",
              "      <td>2013-01-09 20:06:00</td>\n",
              "      <td>1</td>\n",
              "      <td>1920</td>\n",
              "      <td>0.0</td>\n",
              "      <td>0.000000</td>\n",
              "      <td>0.000000</td>\n",
              "      <td>0.000000</td>\n",
              "      <td>0.000000</td>\n",
              "    </tr>\n",
              "  </tbody>\n",
              "</table>\n",
              "</div>"
            ],
            "text/plain": [
              "                                 medallion  ... dropoff_latitude\n",
              "2540625   F5818A7D75529449112CD423EA58626C  ...        40.719772\n",
              "2982293   61C22E72D833C1F868293A9DE377CA8E  ...        40.843048\n",
              "3389092   85666EE5D2EDFDAC22041D2B6ACF0D71  ...        40.744682\n",
              "4055114   E523F84E85708BCEB9FEB6F7825C0E08  ...        40.745289\n",
              "6255682   7EC413823306154C3808A882DF771A1E  ...        40.756237\n",
              "6759185   C499715B8AC7FC95E2E24C56BDB957C9  ...        40.739906\n",
              "6841339   A38C0393DB4A916A99E4B345B2F70D92  ...        40.756718\n",
              "6867270   4BA19608138BFFCCAEC0DEB910D5BFBE  ...        40.763000\n",
              "7035307   E523F84E85708BCEB9FEB6F7825C0E08  ...        40.825195\n",
              "7096961   F6B90945F15CDB501B0C18E2163BF96E  ...        40.644165\n",
              "7958549   8C4F18BF18A8ECAB898369409A09CC17  ...        40.768764\n",
              "10724973  11FB95AC57D4AA4CB82BB2E061C53374  ...        40.715248\n",
              "11193753  E523F84E85708BCEB9FEB6F7825C0E08  ...        40.714134\n",
              "11777985  EFB08EF1CDA77CC654234F098E06E90C  ...        40.747898\n",
              "12513429  41D2AC8217D65CF5B493D009BEC5221E  ...         0.000000\n",
              "12518428  41D2AC8217D65CF5B493D009BEC5221E  ...         0.000000\n",
              "12518752  41D2AC8217D65CF5B493D009BEC5221E  ...         0.000000\n",
              "12642203  41D2AC8217D65CF5B493D009BEC5221E  ...         0.000000\n",
              "\n",
              "[18 rows x 14 columns]"
            ]
          },
          "metadata": {
            "tags": []
          },
          "execution_count": 47
        }
      ]
    },
    {
      "cell_type": "code",
      "metadata": {
        "id": "gA0vmQYbQ5fc",
        "colab_type": "code",
        "colab": {
          "base_uri": "https://localhost:8080/",
          "height": 33
        },
        "outputId": "23e18a66-7fe6-47c2-fd54-37c9034f5d11"
      },
      "source": [
        "df['store_and_fwd_flag'].unique()"
      ],
      "execution_count": 55,
      "outputs": [
        {
          "output_type": "execute_result",
          "data": {
            "text/plain": [
              "array(['N', 'Y', nan], dtype=object)"
            ]
          },
          "metadata": {
            "tags": []
          },
          "execution_count": 55
        }
      ]
    },
    {
      "cell_type": "code",
      "metadata": {
        "id": "yBNErhsgRB-W",
        "colab_type": "code",
        "colab": {
          "base_uri": "https://localhost:8080/",
          "height": 67
        },
        "outputId": "ddc02b5a-7aa8-4de6-f3ae-03dab05f6cbc"
      },
      "source": [
        "df[df['pickup_datetime'].str.len()<15]"
      ],
      "execution_count": 58,
      "outputs": [
        {
          "output_type": "execute_result",
          "data": {
            "text/html": [
              "<div>\n",
              "<style scoped>\n",
              "    .dataframe tbody tr th:only-of-type {\n",
              "        vertical-align: middle;\n",
              "    }\n",
              "\n",
              "    .dataframe tbody tr th {\n",
              "        vertical-align: top;\n",
              "    }\n",
              "\n",
              "    .dataframe thead th {\n",
              "        text-align: right;\n",
              "    }\n",
              "</style>\n",
              "<table border=\"1\" class=\"dataframe\">\n",
              "  <thead>\n",
              "    <tr style=\"text-align: right;\">\n",
              "      <th></th>\n",
              "      <th>medallion</th>\n",
              "      <th>hack_license</th>\n",
              "      <th>vendor_id</th>\n",
              "      <th>rate_code</th>\n",
              "      <th>store_and_fwd_flag</th>\n",
              "      <th>pickup_datetime</th>\n",
              "      <th>dropoff_datetime</th>\n",
              "      <th>passenger_count</th>\n",
              "      <th>trip_time_in_secs</th>\n",
              "      <th>trip_distance</th>\n",
              "      <th>pickup_longitude</th>\n",
              "      <th>pickup_latitude</th>\n",
              "      <th>dropoff_longitude</th>\n",
              "      <th>dropoff_latitude</th>\n",
              "    </tr>\n",
              "  </thead>\n",
              "  <tbody>\n",
              "  </tbody>\n",
              "</table>\n",
              "</div>"
            ],
            "text/plain": [
              "Empty DataFrame\n",
              "Columns: [medallion, hack_license, vendor_id, rate_code, store_and_fwd_flag, pickup_datetime, dropoff_datetime, passenger_count, trip_time_in_secs, trip_distance, pickup_longitude, pickup_latitude, dropoff_longitude, dropoff_latitude]\n",
              "Index: []"
            ]
          },
          "metadata": {
            "tags": []
          },
          "execution_count": 58
        }
      ]
    },
    {
      "cell_type": "code",
      "metadata": {
        "id": "AOrmVOSNRzni",
        "colab_type": "code",
        "colab": {
          "base_uri": "https://localhost:8080/",
          "height": 67
        },
        "outputId": "d59296a2-ab69-4654-8de9-f595d42ef2b8"
      },
      "source": [
        "df[df['dropoff_datetime'].str.len()<15]"
      ],
      "execution_count": 59,
      "outputs": [
        {
          "output_type": "execute_result",
          "data": {
            "text/html": [
              "<div>\n",
              "<style scoped>\n",
              "    .dataframe tbody tr th:only-of-type {\n",
              "        vertical-align: middle;\n",
              "    }\n",
              "\n",
              "    .dataframe tbody tr th {\n",
              "        vertical-align: top;\n",
              "    }\n",
              "\n",
              "    .dataframe thead th {\n",
              "        text-align: right;\n",
              "    }\n",
              "</style>\n",
              "<table border=\"1\" class=\"dataframe\">\n",
              "  <thead>\n",
              "    <tr style=\"text-align: right;\">\n",
              "      <th></th>\n",
              "      <th>medallion</th>\n",
              "      <th>hack_license</th>\n",
              "      <th>vendor_id</th>\n",
              "      <th>rate_code</th>\n",
              "      <th>store_and_fwd_flag</th>\n",
              "      <th>pickup_datetime</th>\n",
              "      <th>dropoff_datetime</th>\n",
              "      <th>passenger_count</th>\n",
              "      <th>trip_time_in_secs</th>\n",
              "      <th>trip_distance</th>\n",
              "      <th>pickup_longitude</th>\n",
              "      <th>pickup_latitude</th>\n",
              "      <th>dropoff_longitude</th>\n",
              "      <th>dropoff_latitude</th>\n",
              "    </tr>\n",
              "  </thead>\n",
              "  <tbody>\n",
              "  </tbody>\n",
              "</table>\n",
              "</div>"
            ],
            "text/plain": [
              "Empty DataFrame\n",
              "Columns: [medallion, hack_license, vendor_id, rate_code, store_and_fwd_flag, pickup_datetime, dropoff_datetime, passenger_count, trip_time_in_secs, trip_distance, pickup_longitude, pickup_latitude, dropoff_longitude, dropoff_latitude]\n",
              "Index: []"
            ]
          },
          "metadata": {
            "tags": []
          },
          "execution_count": 59
        }
      ]
    },
    {
      "cell_type": "code",
      "metadata": {
        "id": "lp3iOWWwR836",
        "colab_type": "code",
        "colab": {
          "base_uri": "https://localhost:8080/",
          "height": 33
        },
        "outputId": "1c6472e6-9b51-403e-eb5c-25c183912b36"
      },
      "source": [
        "df['passenger_count'].unique()"
      ],
      "execution_count": 60,
      "outputs": [
        {
          "output_type": "execute_result",
          "data": {
            "text/plain": [
              "array([  4,   1,   2,   3,   5,   6,   0, 208,   9, 255])"
            ]
          },
          "metadata": {
            "tags": []
          },
          "execution_count": 60
        }
      ]
    },
    {
      "cell_type": "code",
      "metadata": {
        "id": "p-tlx0RFSEvC",
        "colab_type": "code",
        "colab": {
          "base_uri": "https://localhost:8080/",
          "height": 125
        },
        "outputId": "515faa10-db85-4aa7-a01e-fc91ab8ae4af"
      },
      "source": [
        "df[df['passenger_count']>9]"
      ],
      "execution_count": 61,
      "outputs": [
        {
          "output_type": "execute_result",
          "data": {
            "text/html": [
              "<div>\n",
              "<style scoped>\n",
              "    .dataframe tbody tr th:only-of-type {\n",
              "        vertical-align: middle;\n",
              "    }\n",
              "\n",
              "    .dataframe tbody tr th {\n",
              "        vertical-align: top;\n",
              "    }\n",
              "\n",
              "    .dataframe thead th {\n",
              "        text-align: right;\n",
              "    }\n",
              "</style>\n",
              "<table border=\"1\" class=\"dataframe\">\n",
              "  <thead>\n",
              "    <tr style=\"text-align: right;\">\n",
              "      <th></th>\n",
              "      <th>medallion</th>\n",
              "      <th>hack_license</th>\n",
              "      <th>vendor_id</th>\n",
              "      <th>rate_code</th>\n",
              "      <th>store_and_fwd_flag</th>\n",
              "      <th>pickup_datetime</th>\n",
              "      <th>dropoff_datetime</th>\n",
              "      <th>passenger_count</th>\n",
              "      <th>trip_time_in_secs</th>\n",
              "      <th>trip_distance</th>\n",
              "      <th>pickup_longitude</th>\n",
              "      <th>pickup_latitude</th>\n",
              "      <th>dropoff_longitude</th>\n",
              "      <th>dropoff_latitude</th>\n",
              "    </tr>\n",
              "  </thead>\n",
              "  <tbody>\n",
              "    <tr>\n",
              "      <th>1261636</th>\n",
              "      <td>ECCBC87E4B5CE2FE28308FD9F2A7BAF3</td>\n",
              "      <td>08B595B9B70457A1838B11B75C730EB8</td>\n",
              "      <td>VTS</td>\n",
              "      <td>1</td>\n",
              "      <td>NaN</td>\n",
              "      <td>2013-01-02 15:11:00</td>\n",
              "      <td>2013-01-02 15:12:00</td>\n",
              "      <td>208</td>\n",
              "      <td>60</td>\n",
              "      <td>0.0</td>\n",
              "      <td>-115.231020</td>\n",
              "      <td>36.218132</td>\n",
              "      <td>-115.23106</td>\n",
              "      <td>36.218121</td>\n",
              "    </tr>\n",
              "    <tr>\n",
              "      <th>12308722</th>\n",
              "      <td>DCDD025C953CA1BAAA7044C69BCE2D3D</td>\n",
              "      <td>3C1BBDEA84C6BF2B166483B676D362C1</td>\n",
              "      <td>VTS</td>\n",
              "      <td>1</td>\n",
              "      <td>NaN</td>\n",
              "      <td>2013-01-08 10:16:00</td>\n",
              "      <td>2013-01-08 10:24:00</td>\n",
              "      <td>255</td>\n",
              "      <td>480</td>\n",
              "      <td>1.7</td>\n",
              "      <td>-73.946877</td>\n",
              "      <td>40.714642</td>\n",
              "      <td>1347.44460</td>\n",
              "      <td>898.293820</td>\n",
              "    </tr>\n",
              "  </tbody>\n",
              "</table>\n",
              "</div>"
            ],
            "text/plain": [
              "                                 medallion  ... dropoff_latitude\n",
              "1261636   ECCBC87E4B5CE2FE28308FD9F2A7BAF3  ...        36.218121\n",
              "12308722  DCDD025C953CA1BAAA7044C69BCE2D3D  ...       898.293820\n",
              "\n",
              "[2 rows x 14 columns]"
            ]
          },
          "metadata": {
            "tags": []
          },
          "execution_count": 61
        }
      ]
    },
    {
      "cell_type": "code",
      "metadata": {
        "id": "LsGZrM1xSUeN",
        "colab_type": "code",
        "colab": {
          "base_uri": "https://localhost:8080/",
          "height": 33
        },
        "outputId": "59f4f1a6-a918-4c89-e167-c09666031623"
      },
      "source": [
        "df['trip_time_in_secs'].unique()"
      ],
      "execution_count": 62,
      "outputs": [
        {
          "output_type": "execute_result",
          "data": {
            "text/plain": [
              "array([ 382,  259,  282, ..., 7034, 7749, 5471])"
            ]
          },
          "metadata": {
            "tags": []
          },
          "execution_count": 62
        }
      ]
    },
    {
      "cell_type": "code",
      "metadata": {
        "id": "c2EKCbX9av3F",
        "colab_type": "code",
        "colab": {
          "base_uri": "https://localhost:8080/",
          "height": 158
        },
        "outputId": "ec1bf508-f48c-4a48-94d0-138eecd1b6d8"
      },
      "source": [
        "df[df['trip_time_in_secs']>9000]"
      ],
      "execution_count": 2,
      "outputs": [
        {
          "output_type": "error",
          "ename": "NameError",
          "evalue": "ignored",
          "traceback": [
            "\u001b[0;31m---------------------------------------------------------------------------\u001b[0m",
            "\u001b[0;31mNameError\u001b[0m                                 Traceback (most recent call last)",
            "\u001b[0;32m<ipython-input-2-637e6d695544>\u001b[0m in \u001b[0;36m<module>\u001b[0;34m()\u001b[0m\n\u001b[0;32m----> 1\u001b[0;31m \u001b[0mdf\u001b[0m\u001b[0;34m[\u001b[0m\u001b[0mdf\u001b[0m\u001b[0;34m[\u001b[0m\u001b[0;34m'trip_time_in_secs'\u001b[0m\u001b[0;34m]\u001b[0m\u001b[0;34m>\u001b[0m\u001b[0;36m9000\u001b[0m\u001b[0;34m]\u001b[0m\u001b[0;34m\u001b[0m\u001b[0;34m\u001b[0m\u001b[0m\n\u001b[0m",
            "\u001b[0;31mNameError\u001b[0m: name 'df' is not defined"
          ]
        }
      ]
    }
  ]
}